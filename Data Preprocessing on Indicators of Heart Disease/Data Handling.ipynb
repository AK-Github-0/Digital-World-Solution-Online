{
 "cells": [
  {
   "cell_type": "markdown",
   "id": "19eea073",
   "metadata": {},
   "source": [
    "Importing libraries"
   ]
  },
  {
   "cell_type": "code",
   "execution_count": 1,
   "id": "c0456929",
   "metadata": {},
   "outputs": [],
   "source": [
    "import pandas as pd\n",
    "import numpy as np\n",
    "import matplotlib.pyplot as plt"
   ]
  },
  {
   "cell_type": "markdown",
   "id": "9a47d73f",
   "metadata": {},
   "source": [
    "Reading the csv file using pandas"
   ]
  },
  {
   "cell_type": "code",
   "execution_count": 14,
   "id": "8cfb80da",
   "metadata": {},
   "outputs": [],
   "source": [
    "df = pd.read_csv(\"heart_2020_cleaned.csv\")\n",
    "#Here, df is a DataFrame that contains the data read from the CSV file"
   ]
  },
  {
   "cell_type": "code",
   "execution_count": 15,
   "id": "96bc9f60",
   "metadata": {},
   "outputs": [
    {
     "name": "stdout",
     "output_type": "stream",
     "text": [
      "  HeartDisease    BMI Smoking AlcoholDrinking Stroke  PhysicalHealth  \\\n",
      "0           No  16.60     Yes              No     No             3.0   \n",
      "1           No  20.34      No              No    Yes             0.0   \n",
      "2           No  26.58     Yes              No     No            20.0   \n",
      "3           No  24.21      No              No     No             0.0   \n",
      "4           No  23.71      No              No     No            28.0   \n",
      "\n",
      "   MentalHealth DiffWalking     Sex  AgeCategory   Race Diabetic  \\\n",
      "0          30.0          No  Female        55-59  White      Yes   \n",
      "1           0.0          No  Female  80 or older  White       No   \n",
      "2          30.0          No    Male        65-69  White      Yes   \n",
      "3           0.0          No  Female        75-79  White       No   \n",
      "4           0.0         Yes  Female        40-44  White       No   \n",
      "\n",
      "  PhysicalActivity  GenHealth  SleepTime Asthma KidneyDisease SkinCancer  \n",
      "0              Yes  Very good        5.0    Yes            No        Yes  \n",
      "1              Yes  Very good        7.0     No            No         No  \n",
      "2              Yes       Fair        8.0    Yes            No         No  \n",
      "3               No       Good        6.0     No            No        Yes  \n",
      "4              Yes  Very good        8.0     No            No         No  \n"
     ]
    }
   ],
   "source": [
    "#showing top 5 entries of all columns\n",
    "print(df.head())"
   ]
  },
  {
   "cell_type": "code",
   "execution_count": 16,
   "id": "ccbba736",
   "metadata": {},
   "outputs": [],
   "source": [
    "df['AgeCategory'].replace('80 or older', '80+', inplace=True)"
   ]
  },
  {
   "cell_type": "code",
   "execution_count": 21,
   "id": "e89844e8",
   "metadata": {},
   "outputs": [],
   "source": [
    "df['Estimated Age'] = df['AgeCategory'].apply(lambda x: int(x.split(\"-\")[0]) + int(x.split(\"-\")[1]))/2"
   ]
  },
  {
   "cell_type": "code",
   "execution_count": 7,
   "id": "b7de41eb",
   "metadata": {},
   "outputs": [],
   "source": [
    "#Creating a function to calculate the mean of a column\n",
    "def mean_of_column(df, column_name):\n",
    "    return df[column_name].mean()"
   ]
  },
  {
   "cell_type": "code",
   "execution_count": 8,
   "id": "ecaf8c55",
   "metadata": {},
   "outputs": [
    {
     "name": "stdout",
     "output_type": "stream",
     "text": [
      "Mean of BMI:  56.650797041852655\n"
     ]
    }
   ],
   "source": [
    "#Using the function to calculate the mean of a column\n",
    "mean_bmi = mean_of_column(df, \"BMI\")\n",
    "print(\"Mean of BMI: \", mean_bmi)"
   ]
  },
  {
   "cell_type": "code",
   "execution_count": 39,
   "id": "7122f7e2",
   "metadata": {},
   "outputs": [],
   "source": [
    "# Use a list comprehension to select only rows where a certain condition is met\n",
    "diabetic_patients = df[df['Diabetic'] == 'Yes']"
   ]
  },
  {
   "cell_type": "code",
   "execution_count": 36,
   "id": "ce084c05",
   "metadata": {},
   "outputs": [],
   "source": [
    "# Using a dictionary to map the values of 'Sex' column\n",
    "sex_map = {'Female': 0, 'Male': 1}\n",
    "df['Sex'] = df['Sex'].map(sex_map)"
   ]
  },
  {
   "cell_type": "code",
   "execution_count": 37,
   "id": "da3d720c",
   "metadata": {},
   "outputs": [],
   "source": [
    "# Using a dictionary to map the values of 'PhysicalActivity' column\n",
    "activity_map = {'No': 0, 'Yes': 1}\n",
    "df['PhysicalActivity'] = df['PhysicalActivity'].map(activity_map)"
   ]
  },
  {
   "cell_type": "code",
   "execution_count": 38,
   "id": "873bc0fa",
   "metadata": {},
   "outputs": [
    {
     "name": "stdout",
     "output_type": "stream",
     "text": [
      "                    BMI  PhysicalHealth  MentalHealth  Sex  PhysicalActivity  \\\n",
      "HeartDisease                                                                   \n",
      "No            28.224658        2.956416      3.828778  NaN               NaN   \n",
      "Yes           29.401592        7.808242      4.641764  NaN               NaN   \n",
      "\n",
      "              SleepTime  Estimated Age  \n",
      "HeartDisease                            \n",
      "No             7.093416      53.739825  \n",
      "Yes            7.136156      69.759361  \n"
     ]
    }
   ],
   "source": [
    "# Using a dictionary to group the data by a certain column\n",
    "grouped_data = df.groupby('HeartDisease').mean()\n",
    "\n",
    "print(grouped_data)"
   ]
  },
  {
   "cell_type": "code",
   "execution_count": 23,
   "id": "3c4882eb",
   "metadata": {},
   "outputs": [],
   "source": [
    "# Creating a class for visualization of the data as bar plot or histogram\n",
    "class Visualization:\n",
    "    def __init__(self, dataframe):\n",
    "        self.df = dataframe\n",
    "    def hist_plot(self, column_name):\n",
    "        plt.hist(self.df[column_name])\n",
    "        plt.xlabel(column_name)\n",
    "        plt.ylabel(\"Frequency\")\n",
    "        plt.show()\n",
    "    def bar_plot(self, column_name):\n",
    "        plt.bar(self.df[column_name].unique(), self.df[column_name].value_counts())\n",
    "        plt.xlabel(column_name)\n",
    "        plt.ylabel(\"Count\")\n",
    "        plt.show()"
   ]
  },
  {
   "cell_type": "code",
   "execution_count": 29,
   "id": "1ee69f5d",
   "metadata": {},
   "outputs": [
    {
     "data": {
      "image/png": "[encoded data removed]",
      "text/plain": [
       "<Figure size 640x480 with 1 Axes>"
      ]
     },
     "metadata": {},
     "output_type": "display_data"
    }
   ],
   "source": [
    "#using the class\n",
    "viz = Visualization(df)\n",
    "viz.hist_plot(\"PhysicalActivity\")"
   ]
  },
  {
   "cell_type": "code",
   "execution_count": 28,
   "id": "86c432aa",
   "metadata": {},
   "outputs": [
    {
     "data": {
      "image/png": "[encoded data removed]",
      "text/plain": [
       "<Figure size 640x480 with 1 Axes>"
      ]
     },
     "metadata": {},
     "output_type": "display_data"
    }
   ],
   "source": [
    "#using the class\n",
    "viz = Visualization(df)\n",
    "viz.bar_plot(\"BMI\")"
   ]
  },
  {
   "cell_type": "code",
   "execution_count": null,
   "id": "f15b867d",
   "metadata": {},
   "outputs": [],
   "source": []
  }
 ],
 "metadata": {
  "kernelspec": {
   "display_name": "Python 3 (ipykernel)",
   "language": "python",
   "name": "python3"
  },
  "language_info": {
   "codemirror_mode": {
    "name": "ipython",
    "version": 3
   },
   "file_extension": ".py",
   "mimetype": "text/x-python",
   "name": "python",
   "nbconvert_exporter": "python",
   "pygments_lexer": "ipython3",
   "version": "3.9.13"
  }
 },
 "nbformat": 4,
 "nbformat_minor": 5
}
